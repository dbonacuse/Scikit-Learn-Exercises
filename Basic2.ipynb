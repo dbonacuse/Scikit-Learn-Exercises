{
 "cells": [
  {
   "cell_type": "code",
   "execution_count": 1,
   "metadata": {},
   "outputs": [
    {
     "name": "stdout",
     "output_type": "stream",
     "text": [
      "\n",
      "Keys of Iris dataset:\n",
      "Index(['150', '4', 'setosa', 'versicolor', 'virginica'], dtype='object')\n",
      "\n",
      "Number of rows and columns of Iris dataset:\n",
      "(150, 5)\n"
     ]
    }
   ],
   "source": [
    "# 2. Write a Python program using Scikit-learn to print the keys, number of rows-columns, feature names and the description of the Iris data.\n",
    "\n",
    "import pandas as pd\n",
    "iris_data = pd.read_csv(\"iris.csv\", sep=\"\\t\")\n",
    "print(\"\\nKeys of Iris dataset:\")\n",
    "print(iris_data.keys())\n",
    "print(\"\\nNumber of rows and columns of Iris dataset:\")\n",
    "print(iris_data.shape) \n"
   ]
  },
  {
   "cell_type": "code",
   "execution_count": null,
   "metadata": {},
   "outputs": [],
   "source": []
  }
 ],
 "metadata": {
  "kernelspec": {
   "display_name": "Python 3",
   "language": "python",
   "name": "python3"
  },
  "language_info": {
   "codemirror_mode": {
    "name": "ipython",
    "version": 3
   },
   "file_extension": ".py",
   "mimetype": "text/x-python",
   "name": "python",
   "nbconvert_exporter": "python",
   "pygments_lexer": "ipython3",
   "version": "3.7.7"
  }
 },
 "nbformat": 4,
 "nbformat_minor": 4
}
